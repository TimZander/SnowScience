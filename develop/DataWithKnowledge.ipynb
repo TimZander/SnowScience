{
 "cells": [
  {
   "cell_type": "code",
   "execution_count": null,
   "metadata": {
    "collapsed": true
   },
   "outputs": [],
   "source": [
    "def fill_more_data(df, var):\n",
    "    columns=['date', var]\n",
    "    df_new = pd.DataFrame(data=np.zeros((0,len(columns))), columns=columns)\n",
    "    size=len(df_snow)\n",
    "    for index, row in df.iterrows():\n",
    "        \n",
    "        date=datetime.datetime.strptime(index, '%m/%d/%Y').strftime('%Y%m%d0000')\n",
    "        precip = m.attime(state='CO', county='Summit', vars=var, attime=date, within='120')\n",
    "        #if len(precip['STATION'])>1:\n",
    "            #print(len(precip['STATION']))\n",
    "        sens_var=list(precip_high['STATION'][0]['SENSOR_VARIABLES'][var])[0]\n",
    "        \n",
    "        p=precip['STATION'][0]['OBSERVATIONS'][sens_var]['value']\n",
    "\n",
    "        df_new = df_new.append({'date':index, var:p}, ignore_index=True)\n",
    "    return df_new\n"
   ]
  }
 ],
 "metadata": {
  "kernelspec": {
   "display_name": "Python 3",
   "language": "python",
   "name": "python3"
  },
  "language_info": {
   "codemirror_mode": {
    "name": "ipython",
    "version": 3
   },
   "file_extension": ".py",
   "mimetype": "text/x-python",
   "name": "python",
   "nbconvert_exporter": "python",
   "pygments_lexer": "ipython3",
   "version": "3.5.2+"
  }
 },
 "nbformat": 4,
 "nbformat_minor": 2
}
